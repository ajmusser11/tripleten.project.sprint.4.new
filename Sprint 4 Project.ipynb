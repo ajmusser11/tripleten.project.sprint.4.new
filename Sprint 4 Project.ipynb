{
 "cells": [
  {
   "cell_type": "code",
   "execution_count": 17,
   "id": "d0d456f6",
   "metadata": {},
   "outputs": [],
   "source": [
    "import pandas as pd\n",
    "import streamlit as st"
   ]
  },
  {
   "cell_type": "code",
   "execution_count": null,
   "id": "2cf3e790",
   "metadata": {},
   "outputs": [],
   "source": []
  },
  {
   "cell_type": "code",
   "execution_count": 18,
   "id": "9569982f",
   "metadata": {},
   "outputs": [],
   "source": [
    "df = pd.read_csv('vehicles_us.csv')"
   ]
  },
  {
   "cell_type": "code",
   "execution_count": 19,
   "id": "86ac2d00",
   "metadata": {},
   "outputs": [
    {
     "data": {
      "text/html": [
       "<div>\n",
       "<style scoped>\n",
       "    .dataframe tbody tr th:only-of-type {\n",
       "        vertical-align: middle;\n",
       "    }\n",
       "\n",
       "    .dataframe tbody tr th {\n",
       "        vertical-align: top;\n",
       "    }\n",
       "\n",
       "    .dataframe thead th {\n",
       "        text-align: right;\n",
       "    }\n",
       "</style>\n",
       "<table border=\"1\" class=\"dataframe\">\n",
       "  <thead>\n",
       "    <tr style=\"text-align: right;\">\n",
       "      <th></th>\n",
       "      <th>price</th>\n",
       "      <th>model_year</th>\n",
       "      <th>model</th>\n",
       "      <th>condition</th>\n",
       "      <th>cylinders</th>\n",
       "      <th>fuel</th>\n",
       "      <th>odometer</th>\n",
       "      <th>transmission</th>\n",
       "      <th>type</th>\n",
       "      <th>paint_color</th>\n",
       "      <th>is_4wd</th>\n",
       "      <th>date_posted</th>\n",
       "      <th>days_listed</th>\n",
       "    </tr>\n",
       "  </thead>\n",
       "  <tbody>\n",
       "    <tr>\n",
       "      <th>0</th>\n",
       "      <td>9400</td>\n",
       "      <td>2011.0</td>\n",
       "      <td>bmw x5</td>\n",
       "      <td>good</td>\n",
       "      <td>6.0</td>\n",
       "      <td>gas</td>\n",
       "      <td>145000.0</td>\n",
       "      <td>automatic</td>\n",
       "      <td>SUV</td>\n",
       "      <td>NaN</td>\n",
       "      <td>1.0</td>\n",
       "      <td>2018-06-23</td>\n",
       "      <td>19</td>\n",
       "    </tr>\n",
       "    <tr>\n",
       "      <th>1</th>\n",
       "      <td>25500</td>\n",
       "      <td>NaN</td>\n",
       "      <td>ford f-150</td>\n",
       "      <td>good</td>\n",
       "      <td>6.0</td>\n",
       "      <td>gas</td>\n",
       "      <td>88705.0</td>\n",
       "      <td>automatic</td>\n",
       "      <td>pickup</td>\n",
       "      <td>white</td>\n",
       "      <td>1.0</td>\n",
       "      <td>2018-10-19</td>\n",
       "      <td>50</td>\n",
       "    </tr>\n",
       "    <tr>\n",
       "      <th>2</th>\n",
       "      <td>5500</td>\n",
       "      <td>2013.0</td>\n",
       "      <td>hyundai sonata</td>\n",
       "      <td>like new</td>\n",
       "      <td>4.0</td>\n",
       "      <td>gas</td>\n",
       "      <td>110000.0</td>\n",
       "      <td>automatic</td>\n",
       "      <td>sedan</td>\n",
       "      <td>red</td>\n",
       "      <td>NaN</td>\n",
       "      <td>2019-02-07</td>\n",
       "      <td>79</td>\n",
       "    </tr>\n",
       "    <tr>\n",
       "      <th>3</th>\n",
       "      <td>1500</td>\n",
       "      <td>2003.0</td>\n",
       "      <td>ford f-150</td>\n",
       "      <td>fair</td>\n",
       "      <td>8.0</td>\n",
       "      <td>gas</td>\n",
       "      <td>NaN</td>\n",
       "      <td>automatic</td>\n",
       "      <td>pickup</td>\n",
       "      <td>NaN</td>\n",
       "      <td>NaN</td>\n",
       "      <td>2019-03-22</td>\n",
       "      <td>9</td>\n",
       "    </tr>\n",
       "    <tr>\n",
       "      <th>4</th>\n",
       "      <td>14900</td>\n",
       "      <td>2017.0</td>\n",
       "      <td>chrysler 200</td>\n",
       "      <td>excellent</td>\n",
       "      <td>4.0</td>\n",
       "      <td>gas</td>\n",
       "      <td>80903.0</td>\n",
       "      <td>automatic</td>\n",
       "      <td>sedan</td>\n",
       "      <td>black</td>\n",
       "      <td>NaN</td>\n",
       "      <td>2019-04-02</td>\n",
       "      <td>28</td>\n",
       "    </tr>\n",
       "  </tbody>\n",
       "</table>\n",
       "</div>"
      ],
      "text/plain": [
       "   price  model_year           model  condition  cylinders fuel  odometer  \\\n",
       "0   9400      2011.0          bmw x5       good        6.0  gas  145000.0   \n",
       "1  25500         NaN      ford f-150       good        6.0  gas   88705.0   \n",
       "2   5500      2013.0  hyundai sonata   like new        4.0  gas  110000.0   \n",
       "3   1500      2003.0      ford f-150       fair        8.0  gas       NaN   \n",
       "4  14900      2017.0    chrysler 200  excellent        4.0  gas   80903.0   \n",
       "\n",
       "  transmission    type paint_color  is_4wd date_posted  days_listed  \n",
       "0    automatic     SUV         NaN     1.0  2018-06-23           19  \n",
       "1    automatic  pickup       white     1.0  2018-10-19           50  \n",
       "2    automatic   sedan         red     NaN  2019-02-07           79  \n",
       "3    automatic  pickup         NaN     NaN  2019-03-22            9  \n",
       "4    automatic   sedan       black     NaN  2019-04-02           28  "
      ]
     },
     "execution_count": 19,
     "metadata": {},
     "output_type": "execute_result"
    }
   ],
   "source": [
    "df.head()"
   ]
  },
  {
   "cell_type": "code",
   "execution_count": 20,
   "id": "216e9125",
   "metadata": {},
   "outputs": [],
   "source": [
    "df['model_year']= df.groupby('model')['model_year'].transform(lambda x: x.fillna(x.median()))"
   ]
  },
  {
   "cell_type": "code",
   "execution_count": 21,
   "id": "96360c1a",
   "metadata": {},
   "outputs": [],
   "source": [
    "df['cylinders'] = df.groupby('model')['cylinders'].transform(lambda x: x.fillna(x.median()))"
   ]
  },
  {
   "cell_type": "code",
   "execution_count": 22,
   "id": "7f23a109",
   "metadata": {},
   "outputs": [],
   "source": [
    "df['odometer']= df.groupby('model_year')['odometer'].transform(lambda x: x.fillna(x.median()))"
   ]
  },
  {
   "cell_type": "code",
   "execution_count": 23,
   "id": "3bd07d77",
   "metadata": {},
   "outputs": [],
   "source": [
    "#creating header, then creating a check box to select electric or gas cars\n",
    "st.header('Market of Gas and Electric Vehicles from Dealers')\n",
    "st.write(\"\"\"\n",
    "### Filter the Data Below to Find the Type of Vehicle\n",
    "\"\"\")\n",
    "show_electric_cars = st.checkbox('Show Hybrid Cars')\n",
    "if not show_electric_cars:\n",
    "    df = df[df.fuel != 'Hybrid']"
   ]
  },
  {
   "cell_type": "code",
   "execution_count": 24,
   "id": "bd657a9b",
   "metadata": {},
   "outputs": [
    {
     "data": {
      "text/plain": [
       "DeltaGenerator()"
      ]
     },
     "execution_count": 24,
     "metadata": {},
     "output_type": "execute_result"
    }
   ],
   "source": [
    "#creating filtered data by model and year\n",
    "model_choice = df['model'].unique()\n",
    "make_model_choice = st.selectbox('Select model:', model_choice)\n",
    "\n",
    "min_year, max_year = int(df['model_year'].min()), int(df['model_year'].max())\n",
    "year_range = st.slider(\n",
    "    \"Select Years\",\n",
    "    value=(min_year,max_year), min_value = min_year, max_value = max_year)\n",
    "\n",
    "actual_range = list(range(year_range[0], year_range[1]+1))\n",
    "\n",
    "filtered_type = df[(df.model==make_model_choice)&(df.model_year.isin(list(actual_range)))]\n",
    "\n",
    "st.table(filtered_type)"
   ]
  },
  {
   "cell_type": "code",
   "execution_count": 25,
   "id": "48f52f70",
   "metadata": {},
   "outputs": [
    {
     "data": {
      "text/plain": [
       "DeltaGenerator()"
      ]
     },
     "execution_count": 25,
     "metadata": {},
     "output_type": "execute_result"
    }
   ],
   "source": [
    "st.header('Price Analysis')\n",
    "st.write(\"\"\"\n",
    "#### Let's analyze what influences price the most. We will check how the distribution of price varies depending on type of vehicle, four-wheel drive, and transmisssion type.\"\"\")\n",
    "\n",
    "#histogram of price by different parameters\n",
    "import plotly.express as px\n",
    "#Distribution of price depending on year of vehicle, four-wheel drive, and transmission type\n",
    "list_for_hist = ['type', 'is_4wd', 'transmission']\n",
    "choice_for_hist = st.selectbox('Split for Price Distribution', list_for_hist)\n",
    "fig1 = px.histogram(df, x='price')\n",
    "\n",
    "fig1.update_layout(\n",
    "title=\"<b> Split of Price by {}<b>\".format(choice_for_hist))\n",
    "st.plotly_chart(fig1)"
   ]
  },
  {
   "cell_type": "code",
   "execution_count": 26,
   "id": "18c267cf",
   "metadata": {},
   "outputs": [],
   "source": [
    "#defining age category of car\n",
    "df['age']= 2023 - df['model_year']\n",
    "def age_category(x):\n",
    "    if x < 5: return '<5'\n",
    "    elif x > 5 and x < 10: return'5-10'\n",
    "    elif x > 10 and x < 20: return'11-20'\n",
    "    elif x >20: return'>20'\n",
    "df['age_category']= df['age'].apply(age_category)"
   ]
  },
  {
   "cell_type": "code",
   "execution_count": 28,
   "id": "163da554",
   "metadata": {},
   "outputs": [
    {
     "data": {
      "text/plain": [
       "DeltaGenerator()"
      ]
     },
     "execution_count": 28,
     "metadata": {},
     "output_type": "execute_result"
    }
   ],
   "source": [
    "st.write(\"\"\"\n",
    "#### Let's take a look at how price is affected by Odometer, Cylinders, and Condition\"\"\")\n",
    "#distribution of price depending on odometer, cylinders, and condition\n",
    "list_for_scatter = ['odometer', 'cylinders', 'condition']\n",
    "choice_for_scatter = st.selectbox('Price dependency on ', list_for_scatter)\n",
    "fig2 = px.scatter(df, x='price', y=choice_for_scatter, color='age_category')\n",
    "\n",
    "fig2.update_layout(\n",
    "title=\"<b> Price vs {}<b>\".format(choice_for_scatter))\n",
    "st.plotly_chart(fig2)"
   ]
  },
  {
   "cell_type": "code",
   "execution_count": null,
   "id": "c5d5f60d",
   "metadata": {},
   "outputs": [],
   "source": []
  },
  {
   "cell_type": "code",
   "execution_count": null,
   "id": "25a911ce",
   "metadata": {},
   "outputs": [],
   "source": []
  }
 ],
 "metadata": {
  "kernelspec": {
   "display_name": "Python 3 (ipykernel)",
   "language": "python",
   "name": "python3"
  },
  "language_info": {
   "codemirror_mode": {
    "name": "ipython",
    "version": 3
   },
   "file_extension": ".py",
   "mimetype": "text/x-python",
   "name": "python",
   "nbconvert_exporter": "python",
   "pygments_lexer": "ipython3",
   "version": "3.11.3"
  }
 },
 "nbformat": 4,
 "nbformat_minor": 5
}
